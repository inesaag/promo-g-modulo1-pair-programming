{
 "cells": [
  {
   "cell_type": "code",
   "execution_count": 1,
   "metadata": {},
   "outputs": [
    {
     "name": "stdout",
     "output_type": "stream",
     "text": [
      "Es cero\n"
     ]
    }
   ],
   "source": [
    "# EJERCICIOS SENTENCIAS\n",
    "#1 Verificar si un número es positivo, negativo o cero\n",
    "\n",
    "numero = 0\n",
    "\n",
    "if numero > 0:\n",
    "    print(\"Es positivo\")\n",
    "elif numero < 0:\n",
    "    print(\"Es negativo\")\n",
    "else:\n",
    "    print(\"Es cero\")\n",
    "\n",
    "\n",
    "\n"
   ]
  },
  {
   "cell_type": "code",
   "execution_count": 11,
   "metadata": {},
   "outputs": [
    {
     "name": "stdout",
     "output_type": "stream",
     "text": [
      "5 es un número impar\n"
     ]
    }
   ],
   "source": [
    "\n",
    "# 2 Verificar si un número es par o impar  NO LO TENGO\n",
    "\n",
    "numero = 5\n",
    "\n",
    "if numero % 2 == 0:\n",
    "    print(numero, \"es un número par\")\n",
    "else:\n",
    "    print(numero, \"es un número impar\")"
   ]
  },
  {
   "cell_type": "code",
   "execution_count": 6,
   "metadata": {},
   "outputs": [
    {
     "name": "stdout",
     "output_type": "stream",
     "text": [
      "suspendido\n"
     ]
    }
   ],
   "source": [
    "# 3 Verificar si un estudiante aprobó o suspendió un examen\n",
    "\n",
    "nota  = 59.9\n",
    "if nota >= 60:\n",
    "    print(\"Aprobado\")\n",
    "else:\n",
    "    print(\"suspendido\")"
   ]
  },
  {
   "cell_type": "code",
   "execution_count": 11,
   "metadata": {},
   "outputs": [
    {
     "name": "stdout",
     "output_type": "stream",
     "text": [
      "5 es mayor que 3\n"
     ]
    }
   ],
   "source": [
    "#4. Calcular el máximo entre dos números\n",
    "\n",
    "numero1= 3\n",
    "numero2= 5\n",
    "\n",
    "if numero2 > numero1:\n",
    "    print(numero2, \"es mayor que\", numero1)\n",
    "\n",
    "elif numero1 > numero2:\n",
    "    print(numero1, \"es mayor que\", numero2)\n",
    "else: \n",
    "    print(\"Son el mismo numero\")"
   ]
  },
  {
   "cell_type": "code",
   "execution_count": 12,
   "metadata": {},
   "outputs": [
    {
     "name": "stdout",
     "output_type": "stream",
     "text": [
      "Es una vocal\n"
     ]
    }
   ],
   "source": [
    "#5 Verificar si una letra es una vocal o una consonante\n",
    "letra = \"i\"\n",
    "\n",
    "if letra == \"a\" or letra == \"e\" or letra == \"i\" or letra == \"o\" or letra == \"u\":\n",
    "    print(\"Es una vocal\")\n",
    "else:\n",
    "    print(\"Es una consonante\")"
   ]
  },
  {
   "cell_type": "code",
   "execution_count": 15,
   "metadata": {},
   "outputs": [
    {
     "name": "stdout",
     "output_type": "stream",
     "text": [
      "El descuento aplicado a tu compra es de 69.8 euros\n"
     ]
    }
   ],
   "source": [
    "# 6 Calcular el descuento en una compra según el monto total\n",
    "\n",
    "monto_total = 698\n",
    "\n",
    "if monto_total >= 100:\n",
    "    descuento = monto_total * 0.1\n",
    "    print(\"El descuento aplicado a tu compra es de\", descuento, \"euros\")\n",
    "else:\n",
    "    print(\"No hay descuento\")"
   ]
  },
  {
   "cell_type": "code",
   "execution_count": 14,
   "metadata": {},
   "outputs": [
    {
     "name": "stdout",
     "output_type": "stream",
     "text": [
      "2020 es año bisiesto\n"
     ]
    }
   ],
   "source": [
    "#7 Verificar si un año es bisiesto o no\n",
    "año = 2020\n",
    "\n",
    "\n",
    "if año % 4 == 0:\n",
    "    if año % 100 == 0:\n",
    "        if año % 400 == 0:\n",
    "            print(año, \"es año bisiesto\")\n",
    "        else:\n",
    "            print(año, \"no es año bisiesto\")\n",
    "    else:\n",
    "         print(año, \"es año bisiesto\")\n",
    "else:\n",
    "    print(año, \"no es año bisiesto\")"
   ]
  },
  {
   "cell_type": "code",
   "execution_count": 16,
   "metadata": {},
   "outputs": [
    {
     "name": "stdout",
     "output_type": "stream",
     "text": [
      "Adulto mayor\n"
     ]
    }
   ],
   "source": [
    "# 8 Asignar una categoría a una edad\n",
    "edad = 80\n",
    "if edad < 18:\n",
    "    print(\"Menor\")\n",
    "elif 18 <= edad <= 64:\n",
    "    print(\"Adulto\")\n",
    "else:\n",
    "    print(\"Adulto mayor\")"
   ]
  },
  {
   "cell_type": "code",
   "execution_count": 21,
   "metadata": {},
   "outputs": [
    {
     "name": "stdout",
     "output_type": "stream",
     "text": [
      "Estos 3 números forman un triángulo rectángulo\n"
     ]
    }
   ],
   "source": [
    "# 9 Verificar si tres números forman un triángulo rectángulo\n",
    "a = 37\n",
    "b = 12\n",
    "c = 35\n",
    "\n",
    "if a**2 == b**2 + c**2:\n",
    "    print(\"Estos 3 números forman un triángulo rectángulo\")\n",
    "\n",
    "elif b**2 == a**2 + c**2:\n",
    "    print(\"Estos 3 números forman un triángulo rectángulo\")\n",
    "\n",
    "elif c**2 == b**2 + a**2:\n",
    "    print(\"Estos 3 números forman un triángulo rectángulo\")\n",
    "else:\n",
    "    print(\"Estos 3 números no forman un triángulo rectángulo\")"
   ]
  },
  {
   "cell_type": "code",
   "execution_count": 25,
   "metadata": {},
   "outputs": [
    {
     "name": "stdout",
     "output_type": "stream",
     "text": [
      "La calificación es F\n"
     ]
    }
   ],
   "source": [
    "# 10 Asignar una calificación a una puntuación\n",
    "puntuación = 57\n",
    "\n",
    "if puntuación >= 90:\n",
    "    print(\"La calificación es A\")\n",
    "elif puntuación >= 80:\n",
    "    print(\"La calificación es B\")\n",
    "elif puntuación >= 70:\n",
    "    print(\"La calificación es C\")\n",
    "elif puntuación >= 60:\n",
    "    print(\"La calificación es D\")\n",
    "else:\n",
    "    print(\"La calificación es F\")"
   ]
  },
  {
   "cell_type": "code",
   "execution_count": 33,
   "metadata": {},
   "outputs": [
    {
     "name": "stdout",
     "output_type": "stream",
     "text": [
      "El IMC de una persona que pesa 90 kilogramos y mide 1.86 es 26.014568158168572\n",
      "Se considera SOBREPESO\n"
     ]
    }
   ],
   "source": [
    "# 11 Calcular el índice de masa corporal (IMC) y categorizarlo\n",
    "\n",
    "peso = 90\n",
    "altura = 1.86\n",
    "imc = peso / altura**2\n",
    "print(\"El IMC de una persona que pesa\", peso, \"kilogramos y mide\", altura, \"es\", imc)\n",
    "\n",
    "if imc < 18.5:\n",
    "    print(\"Se considera BAJO PESO\")\n",
    "elif 18.5 <= imc <= 24.9:\n",
    "    print(\"Se considera PESO NORMAL\")\n",
    "elif 25 <= imc <= 29.9:\n",
    "    print(\"Se considera SOBREPESO\")\n",
    "else:\n",
    "    print(\"Se considera OBESIDAD\")\n",
    "\n",
    "\n",
    "\n"
   ]
  },
  {
   "cell_type": "code",
   "execution_count": 38,
   "metadata": {},
   "outputs": [
    {
     "name": "stdout",
     "output_type": "stream",
     "text": [
      "El mayor es 529\n"
     ]
    }
   ],
   "source": [
    "#12 Calcular el mayor de tres números\n",
    "\n",
    "numero3 = 78\n",
    "numero4 = 529\n",
    "numero5 = 78\n",
    "\n",
    "if numero3 > numero4 and numero3 > numero5:\n",
    "    print(\"El mayor es\", numero3)\n",
    "\n",
    "elif numero4 > numero3 and numero4 > numero5:\n",
    "    print(\"El mayor es\", numero4)\n",
    "\n",
    "elif numero5 > numero3 and numero5 > numero4:\n",
    "    print(\"El mayor es\", numero5)\n",
    "\n",
    "else:\n",
    "    print(\"No hay un único número mayo\")"
   ]
  },
  {
   "cell_type": "code",
   "execution_count": 45,
   "metadata": {},
   "outputs": [
    {
     "name": "stdout",
     "output_type": "stream",
     "text": [
      "22/10/500 es una fecha válida\n"
     ]
    }
   ],
   "source": [
    "#13 BONUS sentencias de control: Verificar la validez de una fecha\n",
    "dia = 22\n",
    "mes = 10\n",
    "año = 500\n",
    "\n",
    "if 0<dia<=31 and 0<mes<=12:\n",
    "    print(f\"{dia}/{mes}/{año} es una fecha válida\")\n",
    "else:\n",
    "    print(\"La fecha introducida no es válida\")\n"
   ]
  },
  {
   "cell_type": "code",
   "execution_count": 57,
   "metadata": {},
   "outputs": [
    {
     "name": "stdout",
     "output_type": "stream",
     "text": [
      "21\n"
     ]
    }
   ],
   "source": []
  }
 ],
 "metadata": {
  "kernelspec": {
   "display_name": "base",
   "language": "python",
   "name": "python3"
  },
  "language_info": {
   "codemirror_mode": {
    "name": "ipython",
    "version": 3
   },
   "file_extension": ".py",
   "mimetype": "text/x-python",
   "name": "python",
   "nbconvert_exporter": "python",
   "pygments_lexer": "ipython3",
   "version": "3.11.5"
  }
 },
 "nbformat": 4,
 "nbformat_minor": 2
}
