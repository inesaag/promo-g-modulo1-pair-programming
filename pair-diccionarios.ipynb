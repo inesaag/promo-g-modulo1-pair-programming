{
 "cells": [
  {
   "cell_type": "code",
   "execution_count": 1,
   "metadata": {},
   "outputs": [
    {
     "data": {
      "text/plain": [
       "{'Bélgica': 'Bruselas',\n",
       " 'Dinamarca': 'Copenhagen',\n",
       " 'Francia': 'París',\n",
       " 'Italia': 'Roma',\n",
       " 'Alemania': 'Berlin'}"
      ]
     },
     "execution_count": 1,
     "metadata": {},
     "output_type": "execute_result"
    }
   ],
   "source": [
    "#EJERCICIOS DICCIONARIO\n",
    "\n",
    "#1-2 Crear un diccionario vacío\n",
    "paises = {\"Bélgica\" : \"Bruselas\", \"Dinamarca\" : \"Copenhagen\", \"Francia\" : \"París\", \"Italia\" : \"Roma\", \"Alemania\" : \"Berlin\"}\n",
    "paises\n"
   ]
  },
  {
   "cell_type": "code",
   "execution_count": 2,
   "metadata": {},
   "outputs": [],
   "source": [
    "# 3\n",
    "pais_usuario = input(\"¿Qué país quieres elegir?\")\n"
   ]
  },
  {
   "cell_type": "code",
   "execution_count": 3,
   "metadata": {},
   "outputs": [
    {
     "data": {
      "text/plain": [
       "'Berlin'"
      ]
     },
     "execution_count": 3,
     "metadata": {},
     "output_type": "execute_result"
    }
   ],
   "source": [
    "paises.get(pais_usuario)"
   ]
  },
  {
   "cell_type": "code",
   "execution_count": 4,
   "metadata": {},
   "outputs": [],
   "source": [
    "# 4 Agregar un nuevo par clave-valor a un diccionario\n",
    "\n",
    "nuevo_elemento = {\"España\" : \"Madrid\"}"
   ]
  },
  {
   "cell_type": "code",
   "execution_count": 5,
   "metadata": {},
   "outputs": [
    {
     "data": {
      "text/plain": [
       "{'Bélgica': 'Bruselas',\n",
       " 'Dinamarca': 'Copenhagen',\n",
       " 'Francia': 'París',\n",
       " 'Italia': 'Roma',\n",
       " 'Alemania': 'Berlin',\n",
       " 'España': 'Madrid'}"
      ]
     },
     "execution_count": 5,
     "metadata": {},
     "output_type": "execute_result"
    }
   ],
   "source": [
    "paises.update(nuevo_elemento)\n",
    "paises\n"
   ]
  },
  {
   "cell_type": "code",
   "execution_count": 6,
   "metadata": {},
   "outputs": [
    {
     "data": {
      "text/plain": [
       "{'Bélgica': 'Bruselas',\n",
       " 'Dinamarca': 'Copenhagen',\n",
       " 'Francia': 'París',\n",
       " 'Italia': 'Roma',\n",
       " 'Alemania': 'Berlin',\n",
       " 'España': 'Barcelona'}"
      ]
     },
     "execution_count": 6,
     "metadata": {},
     "output_type": "execute_result"
    }
   ],
   "source": [
    "# 5 Actualizar el valor de una clave en un diccionario\n",
    "paises[\"España\"] = \"Barcelona\"\n",
    "paises"
   ]
  },
  {
   "cell_type": "code",
   "execution_count": 7,
   "metadata": {},
   "outputs": [],
   "source": [
    "# 6 Eliminar un par clave-valor de un diccionario\n",
    "pais_usuario2 = input(\"¿Qué país quieres elegir?\")"
   ]
  },
  {
   "cell_type": "code",
   "execution_count": 8,
   "metadata": {},
   "outputs": [
    {
     "data": {
      "text/plain": [
       "'Berlin'"
      ]
     },
     "execution_count": 8,
     "metadata": {},
     "output_type": "execute_result"
    }
   ],
   "source": [
    "paises.pop(pais_usuario2)"
   ]
  },
  {
   "cell_type": "code",
   "execution_count": 9,
   "metadata": {},
   "outputs": [
    {
     "data": {
      "text/plain": [
       "{'Bélgica': 'Bruselas',\n",
       " 'Dinamarca': 'Copenhagen',\n",
       " 'Francia': 'París',\n",
       " 'Italia': 'Roma',\n",
       " 'España': 'Barcelona'}"
      ]
     },
     "execution_count": 9,
     "metadata": {},
     "output_type": "execute_result"
    }
   ],
   "source": [
    "paises"
   ]
  },
  {
   "cell_type": "code",
   "execution_count": 10,
   "metadata": {},
   "outputs": [],
   "source": [
    "# 7 Verificar si una clave está presente en un diccionario\n",
    "pais_usuario3 = input(\"¿Qué país quieres elegir?\")"
   ]
  },
  {
   "cell_type": "code",
   "execution_count": 11,
   "metadata": {},
   "outputs": [
    {
     "data": {
      "text/plain": [
       "False"
      ]
     },
     "execution_count": 11,
     "metadata": {},
     "output_type": "execute_result"
    }
   ],
   "source": [
    "pais_usuario3 in paises"
   ]
  },
  {
   "cell_type": "code",
   "execution_count": 12,
   "metadata": {},
   "outputs": [
    {
     "data": {
      "text/plain": [
       "dict_keys(['Bélgica', 'Dinamarca', 'Francia', 'Italia', 'España'])"
      ]
     },
     "execution_count": 12,
     "metadata": {},
     "output_type": "execute_result"
    }
   ],
   "source": [
    "# 8 Obtener una lista de todas las claves de un diccionario\n",
    "paises.keys()"
   ]
  },
  {
   "cell_type": "code",
   "execution_count": 13,
   "metadata": {},
   "outputs": [
    {
     "data": {
      "text/plain": [
       "dict_values(['Bruselas', 'Copenhagen', 'París', 'Roma', 'Barcelona'])"
      ]
     },
     "execution_count": 13,
     "metadata": {},
     "output_type": "execute_result"
    }
   ],
   "source": [
    "# 9 Obtener una lista de todas las claves de un diccionario\n",
    "paises.values()"
   ]
  },
  {
   "cell_type": "code",
   "execution_count": 14,
   "metadata": {},
   "outputs": [
    {
     "data": {
      "text/plain": [
       "{'Bélgica': 'Bruselas',\n",
       " 'Dinamarca': 'Copenhagen',\n",
       " 'Francia': 'París',\n",
       " 'Italia': 'Roma',\n",
       " 'España': 'Barcelona',\n",
       " 'Irlanda': 'Dublin'}"
      ]
     },
     "execution_count": 14,
     "metadata": {},
     "output_type": "execute_result"
    }
   ],
   "source": [
    "# 10 Utilizar el método setdefault() para establecer un valor predeterminado si la clave no existe\n",
    "paises.setdefault(\"Irlanda\", \"Dublin\")\n",
    "paises"
   ]
  },
  {
   "cell_type": "code",
   "execution_count": 15,
   "metadata": {},
   "outputs": [
    {
     "data": {
      "text/plain": [
       "{'Bélgica': 'Bruselas',\n",
       " 'Dinamarca': 'Copenhagen',\n",
       " 'Francia': 'París',\n",
       " 'Italia': 'Roma',\n",
       " 'Irlanda': 'Dublin'}"
      ]
     },
     "execution_count": 15,
     "metadata": {},
     "output_type": "execute_result"
    }
   ],
   "source": [
    "# 11 Manipulación de un diccionario utilizando pop() y popitem()\n",
    "paises.pop(\"España\")\n",
    "paises"
   ]
  },
  {
   "cell_type": "code",
   "execution_count": 16,
   "metadata": {},
   "outputs": [
    {
     "data": {
      "text/plain": [
       "('Irlanda', 'Dublin')"
      ]
     },
     "execution_count": 16,
     "metadata": {},
     "output_type": "execute_result"
    }
   ],
   "source": [
    "paises.popitem() "
   ]
  },
  {
   "cell_type": "code",
   "execution_count": 17,
   "metadata": {},
   "outputs": [
    {
     "data": {
      "text/plain": [
       "{'Bélgica': 'Bruselas',\n",
       " 'Dinamarca': 'Copenhagen',\n",
       " 'Francia': 'París',\n",
       " 'Italia': 'Roma'}"
      ]
     },
     "execution_count": 17,
     "metadata": {},
     "output_type": "execute_result"
    }
   ],
   "source": [
    "paises"
   ]
  },
  {
   "cell_type": "code",
   "execution_count": 22,
   "metadata": {},
   "outputs": [],
   "source": [
    "#EJERCICIOS SETS\n",
    "#2 Crear un conjunto vacío\n",
    "nombres = {\"Ines\", \"Sara\", \"Nerea\", \"Maite\"}\n"
   ]
  },
  {
   "cell_type": "code",
   "execution_count": 23,
   "metadata": {},
   "outputs": [
    {
     "name": "stdout",
     "output_type": "stream",
     "text": [
      "<class 'set'>\n"
     ]
    }
   ],
   "source": [
    "print(type(nombres)) "
   ]
  },
  {
   "cell_type": "code",
   "execution_count": 24,
   "metadata": {},
   "outputs": [],
   "source": [
    "# 3 Agregar elementos a un conjunto\n",
    "#un elemento\n",
    "nombres.add(\"Rebeca\")"
   ]
  },
  {
   "cell_type": "code",
   "execution_count": 25,
   "metadata": {},
   "outputs": [
    {
     "data": {
      "text/plain": [
       "{'Ines', 'Maite', 'Nerea', 'Rebeca', 'Sara'}"
      ]
     },
     "execution_count": 25,
     "metadata": {},
     "output_type": "execute_result"
    }
   ],
   "source": [
    "nombres"
   ]
  },
  {
   "cell_type": "code",
   "execution_count": 26,
   "metadata": {},
   "outputs": [],
   "source": [
    "#varios\n",
    "nombres_nuevos = [\"Flor\", \"Mari Carmen\"]"
   ]
  },
  {
   "cell_type": "code",
   "execution_count": 27,
   "metadata": {},
   "outputs": [
    {
     "data": {
      "text/plain": [
       "{'Flor', 'Ines', 'Maite', 'Mari Carmen', 'Nerea', 'Rebeca', 'Sara'}"
      ]
     },
     "execution_count": 27,
     "metadata": {},
     "output_type": "execute_result"
    }
   ],
   "source": [
    "nombres.update(nombres_nuevos)\n",
    "nombres"
   ]
  },
  {
   "cell_type": "code",
   "execution_count": 30,
   "metadata": {},
   "outputs": [
    {
     "data": {
      "text/plain": [
       "{'Ines', 'Maite', 'Nerea', 'Rebeca', 'Sara'}"
      ]
     },
     "execution_count": 30,
     "metadata": {},
     "output_type": "execute_result"
    }
   ],
   "source": [
    "# 4 Eliminar un elemento de un conjunto\n",
    "nombres.remove(\"Flor\")\n",
    "nombres"
   ]
  },
  {
   "cell_type": "code",
   "execution_count": 31,
   "metadata": {},
   "outputs": [
    {
     "data": {
      "text/plain": [
       "True"
      ]
     },
     "execution_count": 31,
     "metadata": {},
     "output_type": "execute_result"
    }
   ],
   "source": [
    "# 5 Verificar la pertenencia de un elemento en un conjunto\n",
    "\"Maite\" in nombres"
   ]
  },
  {
   "cell_type": "code",
   "execution_count": 32,
   "metadata": {},
   "outputs": [],
   "source": [
    "# 6 Realizar una unión de conjuntos\n",
    "apellidos = {\"Rodriguez\", \"Garcia\", \"Gomez\"}"
   ]
  },
  {
   "cell_type": "code",
   "execution_count": 33,
   "metadata": {},
   "outputs": [
    {
     "data": {
      "text/plain": [
       "{'Garcia', 'Gomez', 'Ines', 'Maite', 'Nerea', 'Rebeca', 'Rodriguez', 'Sara'}"
      ]
     },
     "execution_count": 33,
     "metadata": {},
     "output_type": "execute_result"
    }
   ],
   "source": [
    "nombres.union(apellidos)"
   ]
  },
  {
   "cell_type": "code",
   "execution_count": 34,
   "metadata": {},
   "outputs": [],
   "source": [
    "# 7 Realizar una intersección de conjuntos\n",
    "nombres2 = {\"Ines\", \"Maite\"}"
   ]
  },
  {
   "cell_type": "code",
   "execution_count": 35,
   "metadata": {},
   "outputs": [
    {
     "data": {
      "text/plain": [
       "{'Ines', 'Maite'}"
      ]
     },
     "execution_count": 35,
     "metadata": {},
     "output_type": "execute_result"
    }
   ],
   "source": [
    "nombres.intersection(nombres2)"
   ]
  },
  {
   "cell_type": "code",
   "execution_count": 36,
   "metadata": {},
   "outputs": [
    {
     "data": {
      "text/plain": [
       "{'Nerea', 'Rebeca', 'Sara'}"
      ]
     },
     "execution_count": 36,
     "metadata": {},
     "output_type": "execute_result"
    }
   ],
   "source": [
    "# 8 Realizar una diferencia de conjuntos\n",
    "nombres.difference(nombres2)"
   ]
  },
  {
   "cell_type": "code",
   "execution_count": 40,
   "metadata": {},
   "outputs": [
    {
     "data": {
      "text/plain": [
       "True"
      ]
     },
     "execution_count": 40,
     "metadata": {},
     "output_type": "execute_result"
    }
   ],
   "source": [
    "# 9 Verificar si un conjunto es subconjunto de otro\n",
    "\n",
    "nombres2.issubset(nombres)"
   ]
  }
 ],
 "metadata": {
  "kernelspec": {
   "display_name": "base",
   "language": "python",
   "name": "python3"
  },
  "language_info": {
   "codemirror_mode": {
    "name": "ipython",
    "version": 3
   },
   "file_extension": ".py",
   "mimetype": "text/x-python",
   "name": "python",
   "nbconvert_exporter": "python",
   "pygments_lexer": "ipython3",
   "version": "3.11.5"
  }
 },
 "nbformat": 4,
 "nbformat_minor": 2
}
